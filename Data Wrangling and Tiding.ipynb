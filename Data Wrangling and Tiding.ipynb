{
 "cells": [
  {
   "cell_type": "markdown",
   "metadata": {},
   "source": [
    "# Data Wrangling and Tidying"
   ]
  },
  {
   "cell_type": "markdown",
   "metadata": {},
   "source": [
    "Frequently when we work with data, we encounter unstructured and/or messy data. Messy data can take a variety of forms. This could mean any of the following:\n",
    "\n",
    "The columns are mislabeled or do not have variable names.\n",
    "The dataset contains nonsensical data.\n",
    "Variables are stored in both the columns and rows.\n",
    "While the data may be messy, it is still extremely informative. We need to clean, transform, and sometimes manipulate the data structure to gain any insights. This process is often called data wrangling or data munging.\n",
    "\n",
    "At the final stages of the data wrangling process, we will have a dataset that we can easily use for modeling purposes or for visualization purposes. This is a tidy dataset where each column is a variable and each row is an observation.\n",
    "\n",
    "Data Wrangling\n",
    "Let’s look at a subset of restaurant inspections from the New York City Department of Health and Mental Hygiene (NYC DOHMH) to work through some data wrangling processes. The data includes seven different columns with information about a restaurant’s location and health inspection. Here is a description of the dataset’s variables.\n",
    "\n",
    "**RO:** În mod frecvent când lucrăm cu date, întâlnim date nestructurate și / sau dezordonate. Datele dezordonate pot lua o varietate de forme. Acest lucru ar putea însemna oricare dintre următoarele:\n",
    "\n",
    "Coloanele sunt etichetate greșit sau nu au nume de variabile.\n",
    "Setul de date conține date fără sens.\n",
    "Variabilele sunt stocate atât în ​​coloane, cât și în rânduri.\n",
    "Deși datele pot fi dezordonate, acestea sunt totuși extrem de informative. Trebuie să curățăm, să transformăm și uneori să manipulăm structura datelor pentru a obține orice informații. Acest proces este adesea numit wrangling de date sau munging de date.\n",
    "\n",
    "În etapele finale ale procesului de luptă a datelor, vom avea un set de date pe care îl putem folosi cu ușurință în scopuri de modelare sau de vizualizare. Acesta este un set de date ordonat în care fiecare coloană este o variabilă și fiecare rând este o observație.\n",
    "\n",
    "Lupta de date\n",
    "Să ne uităm la un subgrup de inspecții ale restaurantelor de la Departamentul de Sănătate și Igienă Mentală din New York (NYC DOHMH) pentru a lucra prin unele procese de luptă a datelor. Datele includ șapte coloane diferite cu informații despre locația unui restaurant și inspecția de sănătate. Iată o descriere a variabilelor setului de date."
   ]
  },
  {
   "cell_type": "markdown",
   "metadata": {},
   "source": [
    "**Step in data cleaning**\n",
    "\n",
    "- load data as dataframe with pd.read_csv() \n",
    "- the .head(10) function will show us the first 10 rows in our dataset\n",
    "- look closely at the dataframe for missing values \n",
    "- use **df.shape** method to identify the number of rows and columns\n",
    "- remove any duplicate rows, we can use the **drop_duplicates()** function\n",
    "- check for the columns with upper cases you can convert them to the lower cases with \n"
   ]
  }
 ],
 "metadata": {
  "kernelspec": {
   "display_name": "Python 3",
   "language": "python",
   "name": "python3"
  },
  "language_info": {
   "codemirror_mode": {
    "name": "ipython",
    "version": 3
   },
   "file_extension": ".py",
   "mimetype": "text/x-python",
   "name": "python",
   "nbconvert_exporter": "python",
   "pygments_lexer": "ipython3",
   "version": "3.7.4"
  }
 },
 "nbformat": 4,
 "nbformat_minor": 2
}

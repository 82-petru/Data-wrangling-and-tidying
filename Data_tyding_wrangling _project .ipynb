{
 "cells": [
  {
   "cell_type": "markdown",
   "metadata": {},
   "source": [
    "#  US Census Data"
   ]
  },
  {
   "cell_type": "markdown",
   "metadata": {},
   "source": [
    "**Summary**"
   ]
  },
  {
   "cell_type": "markdown",
   "metadata": {},
   "source": [
    "In this project we have prepared a spreadsheet in csv format with the data of a census made for a number of states in the USA. This table contains income information for each gender and population type in that state."
   ]
  },
  {
   "cell_type": "markdown",
   "metadata": {},
   "source": [
    "**Scope**\n",
    "\n",
    "The goal of this project is to identify and clean up the mistakes in csv files. With this project I want to deepen more knowledge in data processing, tyding and wrangling, also after cleaning the table I want to enter the field of data visualization, I want to make descriptive representation of data.\n",
    "For this project I will mostly use the pandas and matplotlib libraries."
   ]
  },
  {
   "cell_type": "code",
   "execution_count": 73,
   "metadata": {},
   "outputs": [],
   "source": [
    "import pandas as pd\n",
    "import numpy as np\n",
    "from matplotlib import pyplot as plt \n",
    "import seaborn as sns "
   ]
  },
  {
   "cell_type": "markdown",
   "metadata": {},
   "source": [
    "**Import and inspect data**\n",
    "- display first 10 rows \n",
    "    - have a visual inspection on data \n",
    "        - column Index make no sense to keep it\n",
    "        - there are NaN values \n",
    "        - ethnic columns would not be headers but rather values in an \"Ethnicity\" column\n",
    "        - [GenderPop] column has both gender Male and Female population number \n",
    "        - Income column has dolar mark \n",
    "        - columns describing the ethnic size have percentage % mark \n",
    "        - upper case for state header column\n",
    "- check types of the columns\n",
    " - df.dtypes\n",
    "- check columns\n",
    " - df.columns\n",
    "- check info\n",
    " - df.info()\n",
    "- counts the unique value in each column \n",
    " - df.nunique()\n",
    "-  check the missing data: counts the number of missing value in each column \n",
    "- df.isna().sum()\n",
    "- check the shape \n",
    " - df.shape\n",
    "- display distinct values for the columns\n",
    " - df['column'].value_counts()\n",
    "- correct header from 'Hisppanic' to 'Hisppanic'"
   ]
  },
  {
   "cell_type": "code",
   "execution_count": 2,
   "metadata": {
    "scrolled": true
   },
   "outputs": [
    {
     "data": {
      "text/html": [
       "<div>\n",
       "<style scoped>\n",
       "    .dataframe tbody tr th:only-of-type {\n",
       "        vertical-align: middle;\n",
       "    }\n",
       "\n",
       "    .dataframe tbody tr th {\n",
       "        vertical-align: top;\n",
       "    }\n",
       "\n",
       "    .dataframe thead th {\n",
       "        text-align: right;\n",
       "    }\n",
       "</style>\n",
       "<table border=\"1\" class=\"dataframe\">\n",
       "  <thead>\n",
       "    <tr style=\"text-align: right;\">\n",
       "      <th></th>\n",
       "      <th>Index</th>\n",
       "      <th>STATE</th>\n",
       "      <th>TotalPop</th>\n",
       "      <th>Hisppanic</th>\n",
       "      <th>White</th>\n",
       "      <th>Black</th>\n",
       "      <th>Native</th>\n",
       "      <th>Asian</th>\n",
       "      <th>Pacific</th>\n",
       "      <th>Income</th>\n",
       "      <th>Gender Pop</th>\n",
       "    </tr>\n",
       "  </thead>\n",
       "  <tbody>\n",
       "    <tr>\n",
       "      <td>0</td>\n",
       "      <td>0</td>\n",
       "      <td>Alabama</td>\n",
       "      <td>4830620.0</td>\n",
       "      <td>3.75%</td>\n",
       "      <td>61.88%</td>\n",
       "      <td>31.25%</td>\n",
       "      <td>0.45%</td>\n",
       "      <td>1.05%</td>\n",
       "      <td>0.03%</td>\n",
       "      <td>$43,296.36</td>\n",
       "      <td>2341093M_2489527F</td>\n",
       "    </tr>\n",
       "    <tr>\n",
       "      <td>1</td>\n",
       "      <td>1</td>\n",
       "      <td>Alaska</td>\n",
       "      <td>733375.0</td>\n",
       "      <td>5.91%</td>\n",
       "      <td>60.91%</td>\n",
       "      <td>2.85%</td>\n",
       "      <td>16.39%</td>\n",
       "      <td>5.45%</td>\n",
       "      <td>1.06%</td>\n",
       "      <td>$70,354.74</td>\n",
       "      <td>384160M_349215F</td>\n",
       "    </tr>\n",
       "    <tr>\n",
       "      <td>2</td>\n",
       "      <td>2</td>\n",
       "      <td>Arizona</td>\n",
       "      <td>6641928.0</td>\n",
       "      <td>29.57%</td>\n",
       "      <td>57.12%</td>\n",
       "      <td>3.85%</td>\n",
       "      <td>4.36%</td>\n",
       "      <td>2.88%</td>\n",
       "      <td>0.17%</td>\n",
       "      <td>$54,207.82</td>\n",
       "      <td>3299088M_3342840F</td>\n",
       "    </tr>\n",
       "    <tr>\n",
       "      <td>3</td>\n",
       "      <td>3</td>\n",
       "      <td>Arkansas</td>\n",
       "      <td>2958208.0</td>\n",
       "      <td>6.22%</td>\n",
       "      <td>71.14%</td>\n",
       "      <td>18.97%</td>\n",
       "      <td>0.52%</td>\n",
       "      <td>1.14%</td>\n",
       "      <td>0.15%</td>\n",
       "      <td>$41,935.63</td>\n",
       "      <td>1451913M_1506295F</td>\n",
       "    </tr>\n",
       "    <tr>\n",
       "      <td>4</td>\n",
       "      <td>4</td>\n",
       "      <td>California</td>\n",
       "      <td>38421464.0</td>\n",
       "      <td>37.29%</td>\n",
       "      <td>40.22%</td>\n",
       "      <td>5.68%</td>\n",
       "      <td>0.41%</td>\n",
       "      <td>13.05%</td>\n",
       "      <td>0.35%</td>\n",
       "      <td>$67,264.78</td>\n",
       "      <td>19087135M_19334329F</td>\n",
       "    </tr>\n",
       "    <tr>\n",
       "      <td>5</td>\n",
       "      <td>5</td>\n",
       "      <td>Colorado</td>\n",
       "      <td>5278906.0</td>\n",
       "      <td>20.78%</td>\n",
       "      <td>69.90%</td>\n",
       "      <td>3.55%</td>\n",
       "      <td>0.57%</td>\n",
       "      <td>2.66%</td>\n",
       "      <td>NaN</td>\n",
       "      <td>$64,657.80</td>\n",
       "      <td>2648667M_2630239F</td>\n",
       "    </tr>\n",
       "    <tr>\n",
       "      <td>6</td>\n",
       "      <td>0</td>\n",
       "      <td>Colorado</td>\n",
       "      <td>5278906.0</td>\n",
       "      <td>20.78%</td>\n",
       "      <td>69.90%</td>\n",
       "      <td>3.55%</td>\n",
       "      <td>0.57%</td>\n",
       "      <td>2.66%</td>\n",
       "      <td>NaN</td>\n",
       "      <td>$64,657.80</td>\n",
       "      <td>2648667M_2630239F</td>\n",
       "    </tr>\n",
       "    <tr>\n",
       "      <td>7</td>\n",
       "      <td>1</td>\n",
       "      <td>Connecticut</td>\n",
       "      <td>3593222.0</td>\n",
       "      <td>15.60%</td>\n",
       "      <td>67.68%</td>\n",
       "      <td>10.35%</td>\n",
       "      <td>0.13%</td>\n",
       "      <td>4.02%</td>\n",
       "      <td>0.02%</td>\n",
       "      <td>$76,146.56</td>\n",
       "      <td>1751607M_1841615F</td>\n",
       "    </tr>\n",
       "    <tr>\n",
       "      <td>8</td>\n",
       "      <td>2</td>\n",
       "      <td>Delaware</td>\n",
       "      <td>926454.0</td>\n",
       "      <td>8.82%</td>\n",
       "      <td>64.63%</td>\n",
       "      <td>20.74%</td>\n",
       "      <td>0.26%</td>\n",
       "      <td>3.27%</td>\n",
       "      <td>NaN</td>\n",
       "      <td>$61,827.98</td>\n",
       "      <td>448413M_478041F</td>\n",
       "    </tr>\n",
       "    <tr>\n",
       "      <td>9</td>\n",
       "      <td>3</td>\n",
       "      <td>District of Columbia</td>\n",
       "      <td>647484.0</td>\n",
       "      <td>9.17%</td>\n",
       "      <td>33.10%</td>\n",
       "      <td>51.78%</td>\n",
       "      <td>0.20%</td>\n",
       "      <td>3.38%</td>\n",
       "      <td>0.03%</td>\n",
       "      <td>$75,466.36</td>\n",
       "      <td>306674M_340810F</td>\n",
       "    </tr>\n",
       "  </tbody>\n",
       "</table>\n",
       "</div>"
      ],
      "text/plain": [
       "   Index                 STATE    TotalPop Hisppanic   White   Black  Native  \\\n",
       "0      0               Alabama   4830620.0     3.75%  61.88%  31.25%   0.45%   \n",
       "1      1                Alaska    733375.0     5.91%  60.91%   2.85%  16.39%   \n",
       "2      2               Arizona   6641928.0    29.57%  57.12%   3.85%   4.36%   \n",
       "3      3              Arkansas   2958208.0     6.22%  71.14%  18.97%   0.52%   \n",
       "4      4            California  38421464.0    37.29%  40.22%   5.68%   0.41%   \n",
       "5      5              Colorado   5278906.0    20.78%  69.90%   3.55%   0.57%   \n",
       "6      0              Colorado   5278906.0    20.78%  69.90%   3.55%   0.57%   \n",
       "7      1           Connecticut   3593222.0    15.60%  67.68%  10.35%   0.13%   \n",
       "8      2              Delaware    926454.0     8.82%  64.63%  20.74%   0.26%   \n",
       "9      3  District of Columbia    647484.0     9.17%  33.10%  51.78%   0.20%   \n",
       "\n",
       "    Asian Pacific       Income           Gender Pop  \n",
       "0   1.05%   0.03%  $43,296.36     2341093M_2489527F  \n",
       "1   5.45%   1.06%  $70,354.74       384160M_349215F  \n",
       "2   2.88%   0.17%  $54,207.82     3299088M_3342840F  \n",
       "3   1.14%   0.15%  $41,935.63     1451913M_1506295F  \n",
       "4  13.05%   0.35%  $67,264.78   19087135M_19334329F  \n",
       "5   2.66%     NaN  $64,657.80     2648667M_2630239F  \n",
       "6   2.66%     NaN  $64,657.80     2648667M_2630239F  \n",
       "7   4.02%   0.02%  $76,146.56     1751607M_1841615F  \n",
       "8   3.27%     NaN  $61,827.98       448413M_478041F  \n",
       "9   3.38%   0.03%  $75,466.36       306674M_340810F  "
      ]
     },
     "execution_count": 2,
     "metadata": {},
     "output_type": "execute_result"
    }
   ],
   "source": [
    "us_census = pd.read_csv('census_population.csv')\n",
    "us_census.head(10)"
   ]
  },
  {
   "cell_type": "code",
   "execution_count": 3,
   "metadata": {},
   "outputs": [
    {
     "data": {
      "text/plain": [
       "Index           int64\n",
       "STATE          object\n",
       "TotalPop      float64\n",
       "Hisppanic      object\n",
       "White          object\n",
       "Black          object\n",
       "Native         object\n",
       "Asian          object\n",
       "Pacific        object\n",
       "Income         object\n",
       "Gender Pop     object\n",
       "dtype: object"
      ]
     },
     "execution_count": 3,
     "metadata": {},
     "output_type": "execute_result"
    }
   ],
   "source": [
    "us_census.dtypes"
   ]
  },
  {
   "cell_type": "code",
   "execution_count": 4,
   "metadata": {},
   "outputs": [
    {
     "data": {
      "text/plain": [
       "Index(['Index', 'STATE', 'TotalPop', 'Hisppanic', 'White', 'Black', 'Native',\n",
       "       'Asian', 'Pacific', 'Income', 'Gender Pop'],\n",
       "      dtype='object')"
      ]
     },
     "execution_count": 4,
     "metadata": {},
     "output_type": "execute_result"
    }
   ],
   "source": [
    "us_census.columns"
   ]
  },
  {
   "cell_type": "code",
   "execution_count": 5,
   "metadata": {},
   "outputs": [
    {
     "name": "stdout",
     "output_type": "stream",
     "text": [
      "<class 'pandas.core.frame.DataFrame'>\n",
      "RangeIndex: 64 entries, 0 to 63\n",
      "Data columns (total 11 columns):\n",
      "Index         64 non-null int64\n",
      "STATE         64 non-null object\n",
      "TotalPop      61 non-null float64\n",
      "Hisppanic     64 non-null object\n",
      "White         64 non-null object\n",
      "Black         61 non-null object\n",
      "Native        63 non-null object\n",
      "Asian         63 non-null object\n",
      "Pacific       56 non-null object\n",
      "Income        64 non-null object\n",
      "Gender Pop    64 non-null object\n",
      "dtypes: float64(1), int64(1), object(9)\n",
      "memory usage: 5.6+ KB\n"
     ]
    }
   ],
   "source": [
    "us_census.info()"
   ]
  },
  {
   "cell_type": "code",
   "execution_count": 6,
   "metadata": {},
   "outputs": [
    {
     "data": {
      "text/plain": [
       "Index          6\n",
       "STATE         51\n",
       "TotalPop      49\n",
       "Hisppanic     50\n",
       "White         51\n",
       "Black         47\n",
       "Native        38\n",
       "Asian         48\n",
       "Pacific       17\n",
       "Income        51\n",
       "Gender Pop    51\n",
       "dtype: int64"
      ]
     },
     "execution_count": 6,
     "metadata": {},
     "output_type": "execute_result"
    }
   ],
   "source": [
    "us_census.nunique()"
   ]
  },
  {
   "cell_type": "code",
   "execution_count": 7,
   "metadata": {},
   "outputs": [
    {
     "data": {
      "text/plain": [
       "Index         0\n",
       "STATE         0\n",
       "TotalPop      3\n",
       "Hisppanic     0\n",
       "White         0\n",
       "Black         3\n",
       "Native        1\n",
       "Asian         1\n",
       "Pacific       8\n",
       "Income        0\n",
       "Gender Pop    0\n",
       "dtype: int64"
      ]
     },
     "execution_count": 7,
     "metadata": {},
     "output_type": "execute_result"
    }
   ],
   "source": [
    "us_census.isna().sum()"
   ]
  },
  {
   "cell_type": "code",
   "execution_count": 8,
   "metadata": {},
   "outputs": [
    {
     "data": {
      "text/plain": [
       "array(['0.03%', '1.06%', '0.17%', '0.15%', '0.35%', nan, '0.02%', '0.05%',\n",
       "       '8.76%', '0.13%', '0.06%', '0.04%', '0.10%', '0.07%', '0.57%',\n",
       "       '0.61%', '0.11%', '0.83%'], dtype=object)"
      ]
     },
     "execution_count": 8,
     "metadata": {},
     "output_type": "execute_result"
    }
   ],
   "source": [
    "us_census.Pacific.unique()"
   ]
  },
  {
   "cell_type": "code",
   "execution_count": 9,
   "metadata": {
    "scrolled": true
   },
   "outputs": [
    {
     "data": {
      "text/html": [
       "<div>\n",
       "<style scoped>\n",
       "    .dataframe tbody tr th:only-of-type {\n",
       "        vertical-align: middle;\n",
       "    }\n",
       "\n",
       "    .dataframe tbody tr th {\n",
       "        vertical-align: top;\n",
       "    }\n",
       "\n",
       "    .dataframe thead th {\n",
       "        text-align: right;\n",
       "    }\n",
       "</style>\n",
       "<table border=\"1\" class=\"dataframe\">\n",
       "  <thead>\n",
       "    <tr style=\"text-align: right;\">\n",
       "      <th></th>\n",
       "      <th>Index</th>\n",
       "      <th>STATE</th>\n",
       "      <th>TotalPop</th>\n",
       "      <th>Hispanic</th>\n",
       "      <th>White</th>\n",
       "      <th>Black</th>\n",
       "      <th>Native</th>\n",
       "      <th>Asian</th>\n",
       "      <th>Pacific</th>\n",
       "      <th>Income</th>\n",
       "      <th>Gender Pop</th>\n",
       "    </tr>\n",
       "  </thead>\n",
       "  <tbody>\n",
       "    <tr>\n",
       "      <td>0</td>\n",
       "      <td>0</td>\n",
       "      <td>Alabama</td>\n",
       "      <td>4830620.0</td>\n",
       "      <td>3.75%</td>\n",
       "      <td>61.88%</td>\n",
       "      <td>31.25%</td>\n",
       "      <td>0.45%</td>\n",
       "      <td>1.05%</td>\n",
       "      <td>0.03%</td>\n",
       "      <td>$43,296.36</td>\n",
       "      <td>2341093M_2489527F</td>\n",
       "    </tr>\n",
       "    <tr>\n",
       "      <td>1</td>\n",
       "      <td>1</td>\n",
       "      <td>Alaska</td>\n",
       "      <td>733375.0</td>\n",
       "      <td>5.91%</td>\n",
       "      <td>60.91%</td>\n",
       "      <td>2.85%</td>\n",
       "      <td>16.39%</td>\n",
       "      <td>5.45%</td>\n",
       "      <td>1.06%</td>\n",
       "      <td>$70,354.74</td>\n",
       "      <td>384160M_349215F</td>\n",
       "    </tr>\n",
       "    <tr>\n",
       "      <td>2</td>\n",
       "      <td>2</td>\n",
       "      <td>Arizona</td>\n",
       "      <td>6641928.0</td>\n",
       "      <td>29.57%</td>\n",
       "      <td>57.12%</td>\n",
       "      <td>3.85%</td>\n",
       "      <td>4.36%</td>\n",
       "      <td>2.88%</td>\n",
       "      <td>0.17%</td>\n",
       "      <td>$54,207.82</td>\n",
       "      <td>3299088M_3342840F</td>\n",
       "    </tr>\n",
       "    <tr>\n",
       "      <td>3</td>\n",
       "      <td>3</td>\n",
       "      <td>Arkansas</td>\n",
       "      <td>2958208.0</td>\n",
       "      <td>6.22%</td>\n",
       "      <td>71.14%</td>\n",
       "      <td>18.97%</td>\n",
       "      <td>0.52%</td>\n",
       "      <td>1.14%</td>\n",
       "      <td>0.15%</td>\n",
       "      <td>$41,935.63</td>\n",
       "      <td>1451913M_1506295F</td>\n",
       "    </tr>\n",
       "    <tr>\n",
       "      <td>4</td>\n",
       "      <td>4</td>\n",
       "      <td>California</td>\n",
       "      <td>38421464.0</td>\n",
       "      <td>37.29%</td>\n",
       "      <td>40.22%</td>\n",
       "      <td>5.68%</td>\n",
       "      <td>0.41%</td>\n",
       "      <td>13.05%</td>\n",
       "      <td>0.35%</td>\n",
       "      <td>$67,264.78</td>\n",
       "      <td>19087135M_19334329F</td>\n",
       "    </tr>\n",
       "  </tbody>\n",
       "</table>\n",
       "</div>"
      ],
      "text/plain": [
       "   Index       STATE    TotalPop Hispanic   White   Black  Native   Asian  \\\n",
       "0      0     Alabama   4830620.0    3.75%  61.88%  31.25%   0.45%   1.05%   \n",
       "1      1      Alaska    733375.0    5.91%  60.91%   2.85%  16.39%   5.45%   \n",
       "2      2     Arizona   6641928.0   29.57%  57.12%   3.85%   4.36%   2.88%   \n",
       "3      3    Arkansas   2958208.0    6.22%  71.14%  18.97%   0.52%   1.14%   \n",
       "4      4  California  38421464.0   37.29%  40.22%   5.68%   0.41%  13.05%   \n",
       "\n",
       "  Pacific       Income           Gender Pop  \n",
       "0   0.03%  $43,296.36     2341093M_2489527F  \n",
       "1   1.06%  $70,354.74       384160M_349215F  \n",
       "2   0.17%  $54,207.82     3299088M_3342840F  \n",
       "3   0.15%  $41,935.63     1451913M_1506295F  \n",
       "4   0.35%  $67,264.78   19087135M_19334329F  "
      ]
     },
     "execution_count": 9,
     "metadata": {},
     "output_type": "execute_result"
    }
   ],
   "source": [
    "us_census = us_census.rename({'Hisppanic' : 'Hispanic'}, axis = 1)\n",
    "us_census.head()"
   ]
  },
  {
   "cell_type": "markdown",
   "metadata": {},
   "source": [
    "**Reshaping your data** \n",
    "1. Unpivot dataframe from a wide format to a long format. We'll make use of the melt() function \n",
    "    - frame = dataframe name \n",
    "    - id_vars = the columns we want to keep after transformation\n",
    "    - value_vars = the columns headers of the old dataframe that you want to turn into the variables\n",
    "    - var_name = how to call the new column of the DataFrame that stores the variables\n",
    "    - value_name = how to call the new column of the dataframe that stores the values \n",
    "    \n"
   ]
  },
  {
   "cell_type": "code",
   "execution_count": 10,
   "metadata": {},
   "outputs": [
    {
     "data": {
      "text/html": [
       "<div>\n",
       "<style scoped>\n",
       "    .dataframe tbody tr th:only-of-type {\n",
       "        vertical-align: middle;\n",
       "    }\n",
       "\n",
       "    .dataframe tbody tr th {\n",
       "        vertical-align: top;\n",
       "    }\n",
       "\n",
       "    .dataframe thead th {\n",
       "        text-align: right;\n",
       "    }\n",
       "</style>\n",
       "<table border=\"1\" class=\"dataframe\">\n",
       "  <thead>\n",
       "    <tr style=\"text-align: right;\">\n",
       "      <th></th>\n",
       "      <th>STATE</th>\n",
       "      <th>TotalPop</th>\n",
       "      <th>Income</th>\n",
       "      <th>Gender Pop</th>\n",
       "      <th>Ethnicity</th>\n",
       "      <th>Percentage</th>\n",
       "    </tr>\n",
       "  </thead>\n",
       "  <tbody>\n",
       "    <tr>\n",
       "      <td>0</td>\n",
       "      <td>Alabama</td>\n",
       "      <td>4830620.0</td>\n",
       "      <td>$43,296.36</td>\n",
       "      <td>2341093M_2489527F</td>\n",
       "      <td>Hispanic</td>\n",
       "      <td>3.75%</td>\n",
       "    </tr>\n",
       "    <tr>\n",
       "      <td>1</td>\n",
       "      <td>Alaska</td>\n",
       "      <td>733375.0</td>\n",
       "      <td>$70,354.74</td>\n",
       "      <td>384160M_349215F</td>\n",
       "      <td>Hispanic</td>\n",
       "      <td>5.91%</td>\n",
       "    </tr>\n",
       "    <tr>\n",
       "      <td>2</td>\n",
       "      <td>Arizona</td>\n",
       "      <td>6641928.0</td>\n",
       "      <td>$54,207.82</td>\n",
       "      <td>3299088M_3342840F</td>\n",
       "      <td>Hispanic</td>\n",
       "      <td>29.57%</td>\n",
       "    </tr>\n",
       "    <tr>\n",
       "      <td>3</td>\n",
       "      <td>Arkansas</td>\n",
       "      <td>2958208.0</td>\n",
       "      <td>$41,935.63</td>\n",
       "      <td>1451913M_1506295F</td>\n",
       "      <td>Hispanic</td>\n",
       "      <td>6.22%</td>\n",
       "    </tr>\n",
       "    <tr>\n",
       "      <td>4</td>\n",
       "      <td>California</td>\n",
       "      <td>38421464.0</td>\n",
       "      <td>$67,264.78</td>\n",
       "      <td>19087135M_19334329F</td>\n",
       "      <td>Hispanic</td>\n",
       "      <td>37.29%</td>\n",
       "    </tr>\n",
       "  </tbody>\n",
       "</table>\n",
       "</div>"
      ],
      "text/plain": [
       "        STATE    TotalPop       Income           Gender Pop Ethnicity  \\\n",
       "0     Alabama   4830620.0  $43,296.36     2341093M_2489527F  Hispanic   \n",
       "1      Alaska    733375.0  $70,354.74       384160M_349215F  Hispanic   \n",
       "2     Arizona   6641928.0  $54,207.82     3299088M_3342840F  Hispanic   \n",
       "3    Arkansas   2958208.0  $41,935.63     1451913M_1506295F  Hispanic   \n",
       "4  California  38421464.0  $67,264.78   19087135M_19334329F  Hispanic   \n",
       "\n",
       "  Percentage  \n",
       "0      3.75%  \n",
       "1      5.91%  \n",
       "2     29.57%  \n",
       "3      6.22%  \n",
       "4     37.29%  "
      ]
     },
     "execution_count": 10,
     "metadata": {},
     "output_type": "execute_result"
    }
   ],
   "source": [
    "id_vars = ['STATE', 'TotalPop', 'Income', 'Gender Pop']\n",
    "value_vars = ['Hisppanic', 'White', 'Black', 'Native', 'Asian', 'Pacific']\n",
    "us_census = pd.melt(frame = us_census, id_vars = ['STATE', 'TotalPop', 'Income', 'Gender Pop'], value_vars = ['Hispanic', 'White', 'Black', 'Native', 'Asian', 'Pacific'], var_name = 'Ethnicity', value_name = 'Percentage')\n",
    "us_census.head()"
   ]
  },
  {
   "cell_type": "markdown",
   "metadata": {},
   "source": [
    "**Drop duplicates**"
   ]
  },
  {
   "cell_type": "markdown",
   "metadata": {},
   "source": [
    "2. Drop duplicates, get rid of the similar observations \n",
    "    - df.drop_duplicates() for all columns from table df['col_name'].drop_duplicates() for single column "
   ]
  },
  {
   "cell_type": "code",
   "execution_count": 13,
   "metadata": {
    "scrolled": true
   },
   "outputs": [
    {
     "data": {
      "text/plain": [
       "(384, 6)"
      ]
     },
     "execution_count": 13,
     "metadata": {},
     "output_type": "execute_result"
    }
   ],
   "source": [
    "us_census.drop_duplicates()\n",
    "us_census.shape"
   ]
  },
  {
   "cell_type": "markdown",
   "metadata": {},
   "source": [
    "**Rename header**"
   ]
  },
  {
   "cell_type": "code",
   "execution_count": 14,
   "metadata": {},
   "outputs": [
    {
     "data": {
      "text/html": [
       "<div>\n",
       "<style scoped>\n",
       "    .dataframe tbody tr th:only-of-type {\n",
       "        vertical-align: middle;\n",
       "    }\n",
       "\n",
       "    .dataframe tbody tr th {\n",
       "        vertical-align: top;\n",
       "    }\n",
       "\n",
       "    .dataframe thead th {\n",
       "        text-align: right;\n",
       "    }\n",
       "</style>\n",
       "<table border=\"1\" class=\"dataframe\">\n",
       "  <thead>\n",
       "    <tr style=\"text-align: right;\">\n",
       "      <th></th>\n",
       "      <th>State</th>\n",
       "      <th>TotalPop</th>\n",
       "      <th>Income</th>\n",
       "      <th>GenderPop</th>\n",
       "      <th>Ethnicity</th>\n",
       "      <th>Percentage</th>\n",
       "    </tr>\n",
       "  </thead>\n",
       "  <tbody>\n",
       "    <tr>\n",
       "      <td>0</td>\n",
       "      <td>Alabama</td>\n",
       "      <td>4830620.0</td>\n",
       "      <td>$43,296.36</td>\n",
       "      <td>2341093M_2489527F</td>\n",
       "      <td>Hispanic</td>\n",
       "      <td>3.75%</td>\n",
       "    </tr>\n",
       "    <tr>\n",
       "      <td>1</td>\n",
       "      <td>Alaska</td>\n",
       "      <td>733375.0</td>\n",
       "      <td>$70,354.74</td>\n",
       "      <td>384160M_349215F</td>\n",
       "      <td>Hispanic</td>\n",
       "      <td>5.91%</td>\n",
       "    </tr>\n",
       "    <tr>\n",
       "      <td>2</td>\n",
       "      <td>Arizona</td>\n",
       "      <td>6641928.0</td>\n",
       "      <td>$54,207.82</td>\n",
       "      <td>3299088M_3342840F</td>\n",
       "      <td>Hispanic</td>\n",
       "      <td>29.57%</td>\n",
       "    </tr>\n",
       "    <tr>\n",
       "      <td>3</td>\n",
       "      <td>Arkansas</td>\n",
       "      <td>2958208.0</td>\n",
       "      <td>$41,935.63</td>\n",
       "      <td>1451913M_1506295F</td>\n",
       "      <td>Hispanic</td>\n",
       "      <td>6.22%</td>\n",
       "    </tr>\n",
       "    <tr>\n",
       "      <td>4</td>\n",
       "      <td>California</td>\n",
       "      <td>38421464.0</td>\n",
       "      <td>$67,264.78</td>\n",
       "      <td>19087135M_19334329F</td>\n",
       "      <td>Hispanic</td>\n",
       "      <td>37.29%</td>\n",
       "    </tr>\n",
       "  </tbody>\n",
       "</table>\n",
       "</div>"
      ],
      "text/plain": [
       "        State    TotalPop       Income            GenderPop Ethnicity  \\\n",
       "0     Alabama   4830620.0  $43,296.36     2341093M_2489527F  Hispanic   \n",
       "1      Alaska    733375.0  $70,354.74       384160M_349215F  Hispanic   \n",
       "2     Arizona   6641928.0  $54,207.82     3299088M_3342840F  Hispanic   \n",
       "3    Arkansas   2958208.0  $41,935.63     1451913M_1506295F  Hispanic   \n",
       "4  California  38421464.0  $67,264.78   19087135M_19334329F  Hispanic   \n",
       "\n",
       "  Percentage  \n",
       "0      3.75%  \n",
       "1      5.91%  \n",
       "2     29.57%  \n",
       "3      6.22%  \n",
       "4     37.29%  "
      ]
     },
     "execution_count": 14,
     "metadata": {},
     "output_type": "execute_result"
    }
   ],
   "source": [
    "us_census = us_census.rename({'STATE' : 'State', 'Gender Pop' : 'GenderPop'}, axis = 1)\n",
    "us_census.head(5)"
   ]
  },
  {
   "cell_type": "markdown",
   "metadata": {},
   "source": [
    "**Inspect new dataframe**"
   ]
  },
  {
   "cell_type": "code",
   "execution_count": 15,
   "metadata": {},
   "outputs": [
    {
     "data": {
      "text/plain": [
       "State          object\n",
       "TotalPop      float64\n",
       "Income         object\n",
       "GenderPop      object\n",
       "Ethnicity      object\n",
       "Percentage     object\n",
       "dtype: object"
      ]
     },
     "execution_count": 15,
     "metadata": {},
     "output_type": "execute_result"
    }
   ],
   "source": [
    "us_census.dtypes"
   ]
  },
  {
   "cell_type": "code",
   "execution_count": 16,
   "metadata": {},
   "outputs": [
    {
     "data": {
      "text/plain": [
       "State          0\n",
       "TotalPop      18\n",
       "Income         0\n",
       "GenderPop      0\n",
       "Ethnicity      0\n",
       "Percentage    13\n",
       "dtype: int64"
      ]
     },
     "execution_count": 16,
     "metadata": {},
     "output_type": "execute_result"
    }
   ],
   "source": [
    "us_census.isna().sum()"
   ]
  },
  {
   "cell_type": "markdown",
   "metadata": {},
   "source": [
    "**we can use where() function to replace the values with \"zero\" to np.nan**\n",
    "- there are no zero values "
   ]
  },
  {
   "cell_type": "code",
   "execution_count": 17,
   "metadata": {},
   "outputs": [
    {
     "data": {
      "text/plain": [
       "State          0\n",
       "TotalPop      18\n",
       "Income         0\n",
       "GenderPop      0\n",
       "Ethnicity      0\n",
       "Percentage    13\n",
       "dtype: int64"
      ]
     },
     "execution_count": 17,
     "metadata": {},
     "output_type": "execute_result"
    }
   ],
   "source": [
    "\n",
    "us_census['TotalPop'] = us_census['TotalPop'].where(us_census == 0, np.nan)\n",
    "us_census.isna().sum()"
   ]
  },
  {
   "cell_type": "markdown",
   "metadata": {},
   "source": [
    "**Modify values into the columns** \n",
    "- make use of regex to turn the Income column into a format that is ready for conversion into numeric\n",
    "- parse the string for comma and then convert it to numeric, use replace() function\n",
    "- do the same for the percentage column \n",
    "- look at the GenderPop column, we want to separate this into two columns, the Men column and Women column\n",
    "- split the columns into the new columns using str.split() function\n",
    "    - use argument expand = True in this way the result should be a multiindex dataframe with two columns\n",
    "- still remain M and F character in each entry! remove these before we convert.\n",
    "- reinnoieste dataframe si indeparteaza coloana GenderPop"
   ]
  },
  {
   "cell_type": "code",
   "execution_count": 18,
   "metadata": {},
   "outputs": [
    {
     "data": {
      "text/html": [
       "<div>\n",
       "<style scoped>\n",
       "    .dataframe tbody tr th:only-of-type {\n",
       "        vertical-align: middle;\n",
       "    }\n",
       "\n",
       "    .dataframe tbody tr th {\n",
       "        vertical-align: top;\n",
       "    }\n",
       "\n",
       "    .dataframe thead th {\n",
       "        text-align: right;\n",
       "    }\n",
       "</style>\n",
       "<table border=\"1\" class=\"dataframe\">\n",
       "  <thead>\n",
       "    <tr style=\"text-align: right;\">\n",
       "      <th></th>\n",
       "      <th>State</th>\n",
       "      <th>TotalPop</th>\n",
       "      <th>Income</th>\n",
       "      <th>GenderPop</th>\n",
       "      <th>Ethnicity</th>\n",
       "      <th>Percentage</th>\n",
       "    </tr>\n",
       "  </thead>\n",
       "  <tbody>\n",
       "    <tr>\n",
       "      <td>0</td>\n",
       "      <td>Alabama</td>\n",
       "      <td>4830620.0</td>\n",
       "      <td>43296.36</td>\n",
       "      <td>2341093M_2489527F</td>\n",
       "      <td>Hispanic</td>\n",
       "      <td>3.75%</td>\n",
       "    </tr>\n",
       "    <tr>\n",
       "      <td>1</td>\n",
       "      <td>Alaska</td>\n",
       "      <td>733375.0</td>\n",
       "      <td>70354.74</td>\n",
       "      <td>384160M_349215F</td>\n",
       "      <td>Hispanic</td>\n",
       "      <td>5.91%</td>\n",
       "    </tr>\n",
       "    <tr>\n",
       "      <td>2</td>\n",
       "      <td>Arizona</td>\n",
       "      <td>6641928.0</td>\n",
       "      <td>54207.82</td>\n",
       "      <td>3299088M_3342840F</td>\n",
       "      <td>Hispanic</td>\n",
       "      <td>29.57%</td>\n",
       "    </tr>\n",
       "    <tr>\n",
       "      <td>3</td>\n",
       "      <td>Arkansas</td>\n",
       "      <td>2958208.0</td>\n",
       "      <td>41935.63</td>\n",
       "      <td>1451913M_1506295F</td>\n",
       "      <td>Hispanic</td>\n",
       "      <td>6.22%</td>\n",
       "    </tr>\n",
       "    <tr>\n",
       "      <td>4</td>\n",
       "      <td>California</td>\n",
       "      <td>38421464.0</td>\n",
       "      <td>67264.78</td>\n",
       "      <td>19087135M_19334329F</td>\n",
       "      <td>Hispanic</td>\n",
       "      <td>37.29%</td>\n",
       "    </tr>\n",
       "  </tbody>\n",
       "</table>\n",
       "</div>"
      ],
      "text/plain": [
       "        State    TotalPop    Income            GenderPop Ethnicity Percentage\n",
       "0     Alabama   4830620.0  43296.36    2341093M_2489527F  Hispanic      3.75%\n",
       "1      Alaska    733375.0  70354.74      384160M_349215F  Hispanic      5.91%\n",
       "2     Arizona   6641928.0  54207.82    3299088M_3342840F  Hispanic     29.57%\n",
       "3    Arkansas   2958208.0  41935.63    1451913M_1506295F  Hispanic      6.22%\n",
       "4  California  38421464.0  67264.78  19087135M_19334329F  Hispanic     37.29%"
      ]
     },
     "execution_count": 18,
     "metadata": {},
     "output_type": "execute_result"
    }
   ],
   "source": [
    "# clean up the \"Income\" column \n",
    "us_census['Income'] = us_census.Income.str.lstrip('$')\n",
    "us_census['Income'] = us_census.Income.replace(to_replace = r'\\,', value = '', regex = True)\n",
    "us_census.Income = pd.to_numeric(us_census.Income)\n",
    "us_census.head()"
   ]
  },
  {
   "cell_type": "code",
   "execution_count": 19,
   "metadata": {},
   "outputs": [
    {
     "data": {
      "text/html": [
       "<div>\n",
       "<style scoped>\n",
       "    .dataframe tbody tr th:only-of-type {\n",
       "        vertical-align: middle;\n",
       "    }\n",
       "\n",
       "    .dataframe tbody tr th {\n",
       "        vertical-align: top;\n",
       "    }\n",
       "\n",
       "    .dataframe thead th {\n",
       "        text-align: right;\n",
       "    }\n",
       "</style>\n",
       "<table border=\"1\" class=\"dataframe\">\n",
       "  <thead>\n",
       "    <tr style=\"text-align: right;\">\n",
       "      <th></th>\n",
       "      <th>State</th>\n",
       "      <th>TotalPop</th>\n",
       "      <th>Income</th>\n",
       "      <th>GenderPop</th>\n",
       "      <th>Ethnicity</th>\n",
       "      <th>Percentage</th>\n",
       "    </tr>\n",
       "  </thead>\n",
       "  <tbody>\n",
       "    <tr>\n",
       "      <td>0</td>\n",
       "      <td>Alabama</td>\n",
       "      <td>4830620.0</td>\n",
       "      <td>43296.36</td>\n",
       "      <td>2341093M_2489527F</td>\n",
       "      <td>Hispanic</td>\n",
       "      <td>3.75</td>\n",
       "    </tr>\n",
       "    <tr>\n",
       "      <td>1</td>\n",
       "      <td>Alaska</td>\n",
       "      <td>733375.0</td>\n",
       "      <td>70354.74</td>\n",
       "      <td>384160M_349215F</td>\n",
       "      <td>Hispanic</td>\n",
       "      <td>5.91</td>\n",
       "    </tr>\n",
       "    <tr>\n",
       "      <td>2</td>\n",
       "      <td>Arizona</td>\n",
       "      <td>6641928.0</td>\n",
       "      <td>54207.82</td>\n",
       "      <td>3299088M_3342840F</td>\n",
       "      <td>Hispanic</td>\n",
       "      <td>29.57</td>\n",
       "    </tr>\n",
       "    <tr>\n",
       "      <td>3</td>\n",
       "      <td>Arkansas</td>\n",
       "      <td>2958208.0</td>\n",
       "      <td>41935.63</td>\n",
       "      <td>1451913M_1506295F</td>\n",
       "      <td>Hispanic</td>\n",
       "      <td>6.22</td>\n",
       "    </tr>\n",
       "    <tr>\n",
       "      <td>4</td>\n",
       "      <td>California</td>\n",
       "      <td>38421464.0</td>\n",
       "      <td>67264.78</td>\n",
       "      <td>19087135M_19334329F</td>\n",
       "      <td>Hispanic</td>\n",
       "      <td>37.29</td>\n",
       "    </tr>\n",
       "  </tbody>\n",
       "</table>\n",
       "</div>"
      ],
      "text/plain": [
       "        State    TotalPop    Income            GenderPop Ethnicity  Percentage\n",
       "0     Alabama   4830620.0  43296.36    2341093M_2489527F  Hispanic        3.75\n",
       "1      Alaska    733375.0  70354.74      384160M_349215F  Hispanic        5.91\n",
       "2     Arizona   6641928.0  54207.82    3299088M_3342840F  Hispanic       29.57\n",
       "3    Arkansas   2958208.0  41935.63    1451913M_1506295F  Hispanic        6.22\n",
       "4  California  38421464.0  67264.78  19087135M_19334329F  Hispanic       37.29"
      ]
     },
     "execution_count": 19,
     "metadata": {},
     "output_type": "execute_result"
    }
   ],
   "source": [
    "# play the same with \"Percentage\" column, turn it into numeric afterwards\n",
    "us_census.Percentage = us_census.Percentage.str.strip('%')\n",
    "us_census.Percentage = pd.to_numeric(us_census.Percentage)\n",
    "us_census.head()"
   ]
  },
  {
   "cell_type": "code",
   "execution_count": 20,
   "metadata": {},
   "outputs": [
    {
     "data": {
      "text/html": [
       "<div>\n",
       "<style scoped>\n",
       "    .dataframe tbody tr th:only-of-type {\n",
       "        vertical-align: middle;\n",
       "    }\n",
       "\n",
       "    .dataframe tbody tr th {\n",
       "        vertical-align: top;\n",
       "    }\n",
       "\n",
       "    .dataframe thead th {\n",
       "        text-align: right;\n",
       "    }\n",
       "</style>\n",
       "<table border=\"1\" class=\"dataframe\">\n",
       "  <thead>\n",
       "    <tr style=\"text-align: right;\">\n",
       "      <th></th>\n",
       "      <th>State</th>\n",
       "      <th>TotalPop</th>\n",
       "      <th>Income</th>\n",
       "      <th>GenderPop</th>\n",
       "      <th>Ethnicity</th>\n",
       "      <th>Percentage</th>\n",
       "      <th>Men</th>\n",
       "      <th>Women</th>\n",
       "    </tr>\n",
       "  </thead>\n",
       "  <tbody>\n",
       "    <tr>\n",
       "      <td>0</td>\n",
       "      <td>Alabama</td>\n",
       "      <td>4830620.0</td>\n",
       "      <td>43296.36</td>\n",
       "      <td>2341093M_2489527F</td>\n",
       "      <td>Hispanic</td>\n",
       "      <td>3.75</td>\n",
       "      <td>2341093</td>\n",
       "      <td>2489527.0</td>\n",
       "    </tr>\n",
       "    <tr>\n",
       "      <td>1</td>\n",
       "      <td>Alaska</td>\n",
       "      <td>733375.0</td>\n",
       "      <td>70354.74</td>\n",
       "      <td>384160M_349215F</td>\n",
       "      <td>Hispanic</td>\n",
       "      <td>5.91</td>\n",
       "      <td>384160</td>\n",
       "      <td>349215.0</td>\n",
       "    </tr>\n",
       "    <tr>\n",
       "      <td>2</td>\n",
       "      <td>Arizona</td>\n",
       "      <td>6641928.0</td>\n",
       "      <td>54207.82</td>\n",
       "      <td>3299088M_3342840F</td>\n",
       "      <td>Hispanic</td>\n",
       "      <td>29.57</td>\n",
       "      <td>3299088</td>\n",
       "      <td>3342840.0</td>\n",
       "    </tr>\n",
       "    <tr>\n",
       "      <td>3</td>\n",
       "      <td>Arkansas</td>\n",
       "      <td>2958208.0</td>\n",
       "      <td>41935.63</td>\n",
       "      <td>1451913M_1506295F</td>\n",
       "      <td>Hispanic</td>\n",
       "      <td>6.22</td>\n",
       "      <td>1451913</td>\n",
       "      <td>1506295.0</td>\n",
       "    </tr>\n",
       "    <tr>\n",
       "      <td>4</td>\n",
       "      <td>California</td>\n",
       "      <td>38421464.0</td>\n",
       "      <td>67264.78</td>\n",
       "      <td>19087135M_19334329F</td>\n",
       "      <td>Hispanic</td>\n",
       "      <td>37.29</td>\n",
       "      <td>19087135</td>\n",
       "      <td>19334329.0</td>\n",
       "    </tr>\n",
       "  </tbody>\n",
       "</table>\n",
       "</div>"
      ],
      "text/plain": [
       "        State    TotalPop    Income            GenderPop Ethnicity  \\\n",
       "0     Alabama   4830620.0  43296.36    2341093M_2489527F  Hispanic   \n",
       "1      Alaska    733375.0  70354.74      384160M_349215F  Hispanic   \n",
       "2     Arizona   6641928.0  54207.82    3299088M_3342840F  Hispanic   \n",
       "3    Arkansas   2958208.0  41935.63    1451913M_1506295F  Hispanic   \n",
       "4  California  38421464.0  67264.78  19087135M_19334329F  Hispanic   \n",
       "\n",
       "   Percentage       Men       Women  \n",
       "0        3.75   2341093   2489527.0  \n",
       "1        5.91    384160    349215.0  \n",
       "2       29.57   3299088   3342840.0  \n",
       "3        6.22   1451913   1506295.0  \n",
       "4       37.29  19087135  19334329.0  "
      ]
     },
     "execution_count": 20,
     "metadata": {},
     "output_type": "execute_result"
    }
   ],
   "source": [
    "# now, do some work for column GenderPop, read instruction above but do not forget to convert values into the numeric\n",
    "splited_data = us_census.GenderPop.str.split(('\\_'), expand = True)\n",
    "splited_data[0] = splited_data[0].str.strip('M')\n",
    "splited_data[0] = pd.to_numeric(splited_data[0])\n",
    "splited_data[1] = splited_data[1].str.strip('F')\n",
    "splited_data[1] = pd.to_numeric(splited_data[1])\n",
    "us_census['Men'] = splited_data[0]\n",
    "us_census['Women'] = splited_data[1]\n",
    "us_census.head()"
   ]
  },
  {
   "cell_type": "code",
   "execution_count": 21,
   "metadata": {},
   "outputs": [
    {
     "data": {
      "text/plain": [
       "State          object\n",
       "TotalPop      float64\n",
       "Income        float64\n",
       "GenderPop      object\n",
       "Ethnicity      object\n",
       "Percentage    float64\n",
       "Men             int64\n",
       "Women         float64\n",
       "dtype: object"
      ]
     },
     "execution_count": 21,
     "metadata": {},
     "output_type": "execute_result"
    }
   ],
   "source": [
    "# verify the columns types \n",
    "us_census.dtypes"
   ]
  },
  {
   "cell_type": "code",
   "execution_count": 22,
   "metadata": {},
   "outputs": [
    {
     "data": {
      "text/html": [
       "<div>\n",
       "<style scoped>\n",
       "    .dataframe tbody tr th:only-of-type {\n",
       "        vertical-align: middle;\n",
       "    }\n",
       "\n",
       "    .dataframe tbody tr th {\n",
       "        vertical-align: top;\n",
       "    }\n",
       "\n",
       "    .dataframe thead th {\n",
       "        text-align: right;\n",
       "    }\n",
       "</style>\n",
       "<table border=\"1\" class=\"dataframe\">\n",
       "  <thead>\n",
       "    <tr style=\"text-align: right;\">\n",
       "      <th></th>\n",
       "      <th>State</th>\n",
       "      <th>TotalPop</th>\n",
       "      <th>Income</th>\n",
       "      <th>Ethnicity</th>\n",
       "      <th>Percentage</th>\n",
       "      <th>Men</th>\n",
       "      <th>Women</th>\n",
       "    </tr>\n",
       "  </thead>\n",
       "  <tbody>\n",
       "    <tr>\n",
       "      <td>0</td>\n",
       "      <td>Alabama</td>\n",
       "      <td>4830620.0</td>\n",
       "      <td>43296.36</td>\n",
       "      <td>Hispanic</td>\n",
       "      <td>3.75</td>\n",
       "      <td>2341093</td>\n",
       "      <td>2489527.0</td>\n",
       "    </tr>\n",
       "    <tr>\n",
       "      <td>1</td>\n",
       "      <td>Alaska</td>\n",
       "      <td>733375.0</td>\n",
       "      <td>70354.74</td>\n",
       "      <td>Hispanic</td>\n",
       "      <td>5.91</td>\n",
       "      <td>384160</td>\n",
       "      <td>349215.0</td>\n",
       "    </tr>\n",
       "    <tr>\n",
       "      <td>2</td>\n",
       "      <td>Arizona</td>\n",
       "      <td>6641928.0</td>\n",
       "      <td>54207.82</td>\n",
       "      <td>Hispanic</td>\n",
       "      <td>29.57</td>\n",
       "      <td>3299088</td>\n",
       "      <td>3342840.0</td>\n",
       "    </tr>\n",
       "    <tr>\n",
       "      <td>3</td>\n",
       "      <td>Arkansas</td>\n",
       "      <td>2958208.0</td>\n",
       "      <td>41935.63</td>\n",
       "      <td>Hispanic</td>\n",
       "      <td>6.22</td>\n",
       "      <td>1451913</td>\n",
       "      <td>1506295.0</td>\n",
       "    </tr>\n",
       "    <tr>\n",
       "      <td>4</td>\n",
       "      <td>California</td>\n",
       "      <td>38421464.0</td>\n",
       "      <td>67264.78</td>\n",
       "      <td>Hispanic</td>\n",
       "      <td>37.29</td>\n",
       "      <td>19087135</td>\n",
       "      <td>19334329.0</td>\n",
       "    </tr>\n",
       "  </tbody>\n",
       "</table>\n",
       "</div>"
      ],
      "text/plain": [
       "        State    TotalPop    Income Ethnicity  Percentage       Men  \\\n",
       "0     Alabama   4830620.0  43296.36  Hispanic        3.75   2341093   \n",
       "1      Alaska    733375.0  70354.74  Hispanic        5.91    384160   \n",
       "2     Arizona   6641928.0  54207.82  Hispanic       29.57   3299088   \n",
       "3    Arkansas   2958208.0  41935.63  Hispanic        6.22   1451913   \n",
       "4  California  38421464.0  67264.78  Hispanic       37.29  19087135   \n",
       "\n",
       "        Women  \n",
       "0   2489527.0  \n",
       "1    349215.0  \n",
       "2   3342840.0  \n",
       "3   1506295.0  \n",
       "4  19334329.0  "
      ]
     },
     "execution_count": 22,
     "metadata": {},
     "output_type": "execute_result"
    }
   ],
   "source": [
    "# remove column Genderpop \n",
    "us_census.drop(['GenderPop'], axis = 1, inplace = True)\n",
    "us_census.head()"
   ]
  },
  {
   "cell_type": "markdown",
   "metadata": {},
   "source": [
    "**Investigate columns content for nan and null values**\n",
    "- use isna() to count the number of nan values for each column \n",
    "- same nan rows  have both columns Total Pop and Women, because we have no values to replace them we are going to remove these rows"
   ]
  },
  {
   "cell_type": "code",
   "execution_count": 23,
   "metadata": {},
   "outputs": [
    {
     "name": "stdout",
     "output_type": "stream",
     "text": [
      "State          0\n",
      "TotalPop      18\n",
      "Income         0\n",
      "Ethnicity      0\n",
      "Percentage    13\n",
      "Men            0\n",
      "Women         18\n",
      "dtype: int64\n"
     ]
    }
   ],
   "source": [
    "print(us_census.isna().sum())"
   ]
  },
  {
   "cell_type": "code",
   "execution_count": 24,
   "metadata": {},
   "outputs": [
    {
     "data": {
      "text/html": [
       "<div>\n",
       "<style scoped>\n",
       "    .dataframe tbody tr th:only-of-type {\n",
       "        vertical-align: middle;\n",
       "    }\n",
       "\n",
       "    .dataframe tbody tr th {\n",
       "        vertical-align: top;\n",
       "    }\n",
       "\n",
       "    .dataframe thead th {\n",
       "        text-align: right;\n",
       "    }\n",
       "</style>\n",
       "<table border=\"1\" class=\"dataframe\">\n",
       "  <thead>\n",
       "    <tr style=\"text-align: right;\">\n",
       "      <th></th>\n",
       "      <th>State</th>\n",
       "      <th>TotalPop</th>\n",
       "      <th>Income</th>\n",
       "      <th>Ethnicity</th>\n",
       "      <th>Percentage</th>\n",
       "      <th>Men</th>\n",
       "      <th>Women</th>\n",
       "    </tr>\n",
       "  </thead>\n",
       "  <tbody>\n",
       "    <tr>\n",
       "      <td>0</td>\n",
       "      <td>Alabama</td>\n",
       "      <td>4830620.0</td>\n",
       "      <td>43296.36</td>\n",
       "      <td>Hispanic</td>\n",
       "      <td>3.75</td>\n",
       "      <td>2341093</td>\n",
       "      <td>2489527.0</td>\n",
       "    </tr>\n",
       "    <tr>\n",
       "      <td>1</td>\n",
       "      <td>Alaska</td>\n",
       "      <td>733375.0</td>\n",
       "      <td>70354.74</td>\n",
       "      <td>Hispanic</td>\n",
       "      <td>5.91</td>\n",
       "      <td>384160</td>\n",
       "      <td>349215.0</td>\n",
       "    </tr>\n",
       "    <tr>\n",
       "      <td>2</td>\n",
       "      <td>Arizona</td>\n",
       "      <td>6641928.0</td>\n",
       "      <td>54207.82</td>\n",
       "      <td>Hispanic</td>\n",
       "      <td>29.57</td>\n",
       "      <td>3299088</td>\n",
       "      <td>3342840.0</td>\n",
       "    </tr>\n",
       "    <tr>\n",
       "      <td>3</td>\n",
       "      <td>Arkansas</td>\n",
       "      <td>2958208.0</td>\n",
       "      <td>41935.63</td>\n",
       "      <td>Hispanic</td>\n",
       "      <td>6.22</td>\n",
       "      <td>1451913</td>\n",
       "      <td>1506295.0</td>\n",
       "    </tr>\n",
       "    <tr>\n",
       "      <td>4</td>\n",
       "      <td>California</td>\n",
       "      <td>38421464.0</td>\n",
       "      <td>67264.78</td>\n",
       "      <td>Hispanic</td>\n",
       "      <td>37.29</td>\n",
       "      <td>19087135</td>\n",
       "      <td>19334329.0</td>\n",
       "    </tr>\n",
       "  </tbody>\n",
       "</table>\n",
       "</div>"
      ],
      "text/plain": [
       "        State    TotalPop    Income Ethnicity  Percentage       Men  \\\n",
       "0     Alabama   4830620.0  43296.36  Hispanic        3.75   2341093   \n",
       "1      Alaska    733375.0  70354.74  Hispanic        5.91    384160   \n",
       "2     Arizona   6641928.0  54207.82  Hispanic       29.57   3299088   \n",
       "3    Arkansas   2958208.0  41935.63  Hispanic        6.22   1451913   \n",
       "4  California  38421464.0  67264.78  Hispanic       37.29  19087135   \n",
       "\n",
       "        Women  \n",
       "0   2489527.0  \n",
       "1    349215.0  \n",
       "2   3342840.0  \n",
       "3   1506295.0  \n",
       "4  19334329.0  "
      ]
     },
     "execution_count": 24,
     "metadata": {},
     "output_type": "execute_result"
    }
   ],
   "source": [
    "# fill in nan values with null in order to proceed calculations\n",
    "# replace nan values with 0 for Women and Percentage columns \n",
    "us_census = us_census.fillna(value = {'Women' : 0})\n",
    "us_census = us_census.fillna(value = {'Percentage' : 0})\n",
    "us_census.head()"
   ]
  },
  {
   "cell_type": "code",
   "execution_count": 25,
   "metadata": {},
   "outputs": [
    {
     "data": {
      "text/html": [
       "<div>\n",
       "<style scoped>\n",
       "    .dataframe tbody tr th:only-of-type {\n",
       "        vertical-align: middle;\n",
       "    }\n",
       "\n",
       "    .dataframe tbody tr th {\n",
       "        vertical-align: top;\n",
       "    }\n",
       "\n",
       "    .dataframe thead th {\n",
       "        text-align: right;\n",
       "    }\n",
       "</style>\n",
       "<table border=\"1\" class=\"dataframe\">\n",
       "  <thead>\n",
       "    <tr style=\"text-align: right;\">\n",
       "      <th></th>\n",
       "      <th>State</th>\n",
       "      <th>TotalPop</th>\n",
       "      <th>Income</th>\n",
       "      <th>Ethnicity</th>\n",
       "      <th>Percentage</th>\n",
       "      <th>Men</th>\n",
       "      <th>Women</th>\n",
       "    </tr>\n",
       "  </thead>\n",
       "  <tbody>\n",
       "    <tr>\n",
       "      <td>0</td>\n",
       "      <td>Alabama</td>\n",
       "      <td>4830620.0</td>\n",
       "      <td>43296.36</td>\n",
       "      <td>Hispanic</td>\n",
       "      <td>3.75</td>\n",
       "      <td>2341093</td>\n",
       "      <td>7171713.0</td>\n",
       "    </tr>\n",
       "    <tr>\n",
       "      <td>1</td>\n",
       "      <td>Alaska</td>\n",
       "      <td>733375.0</td>\n",
       "      <td>70354.74</td>\n",
       "      <td>Hispanic</td>\n",
       "      <td>5.91</td>\n",
       "      <td>384160</td>\n",
       "      <td>1117535.0</td>\n",
       "    </tr>\n",
       "    <tr>\n",
       "      <td>2</td>\n",
       "      <td>Arizona</td>\n",
       "      <td>6641928.0</td>\n",
       "      <td>54207.82</td>\n",
       "      <td>Hispanic</td>\n",
       "      <td>29.57</td>\n",
       "      <td>3299088</td>\n",
       "      <td>9941016.0</td>\n",
       "    </tr>\n",
       "    <tr>\n",
       "      <td>3</td>\n",
       "      <td>Arkansas</td>\n",
       "      <td>2958208.0</td>\n",
       "      <td>41935.63</td>\n",
       "      <td>Hispanic</td>\n",
       "      <td>6.22</td>\n",
       "      <td>1451913</td>\n",
       "      <td>4410121.0</td>\n",
       "    </tr>\n",
       "    <tr>\n",
       "      <td>4</td>\n",
       "      <td>California</td>\n",
       "      <td>38421464.0</td>\n",
       "      <td>67264.78</td>\n",
       "      <td>Hispanic</td>\n",
       "      <td>37.29</td>\n",
       "      <td>19087135</td>\n",
       "      <td>57508599.0</td>\n",
       "    </tr>\n",
       "  </tbody>\n",
       "</table>\n",
       "</div>"
      ],
      "text/plain": [
       "        State    TotalPop    Income Ethnicity  Percentage       Men  \\\n",
       "0     Alabama   4830620.0  43296.36  Hispanic        3.75   2341093   \n",
       "1      Alaska    733375.0  70354.74  Hispanic        5.91    384160   \n",
       "2     Arizona   6641928.0  54207.82  Hispanic       29.57   3299088   \n",
       "3    Arkansas   2958208.0  41935.63  Hispanic        6.22   1451913   \n",
       "4  California  38421464.0  67264.78  Hispanic       37.29  19087135   \n",
       "\n",
       "        Women  \n",
       "0   7171713.0  \n",
       "1   1117535.0  \n",
       "2   9941016.0  \n",
       "3   4410121.0  \n",
       "4  57508599.0  "
      ]
     },
     "execution_count": 25,
     "metadata": {},
     "output_type": "execute_result"
    }
   ],
   "source": [
    "# perform columns operation, renew TotalPop column by adding together women and men columns \n",
    "# perform columns calucalations by substracting men from from Total population to  renew Women column \n",
    "def add(x, y):\n",
    "    return x + y\n",
    "def difference(x, y):\n",
    "    return x - y \n",
    "us_census['TotalPop'] = add(us_census.Women, us_census.Men)\n",
    "us_census['Women'] = add(us_census.TotalPop, us_census.Men)\n",
    "us_census.head()"
   ]
  },
  {
   "cell_type": "code",
   "execution_count": 26,
   "metadata": {},
   "outputs": [
    {
     "data": {
      "text/html": [
       "<div>\n",
       "<style scoped>\n",
       "    .dataframe tbody tr th:only-of-type {\n",
       "        vertical-align: middle;\n",
       "    }\n",
       "\n",
       "    .dataframe tbody tr th {\n",
       "        vertical-align: top;\n",
       "    }\n",
       "\n",
       "    .dataframe thead th {\n",
       "        text-align: right;\n",
       "    }\n",
       "</style>\n",
       "<table border=\"1\" class=\"dataframe\">\n",
       "  <thead>\n",
       "    <tr style=\"text-align: right;\">\n",
       "      <th></th>\n",
       "      <th>State</th>\n",
       "      <th>TotalPop</th>\n",
       "      <th>Income</th>\n",
       "      <th>Ethnicity</th>\n",
       "      <th>Percentage</th>\n",
       "      <th>Men</th>\n",
       "      <th>Women</th>\n",
       "    </tr>\n",
       "  </thead>\n",
       "  <tbody>\n",
       "  </tbody>\n",
       "</table>\n",
       "</div>"
      ],
      "text/plain": [
       "Empty DataFrame\n",
       "Columns: [State, TotalPop, Income, Ethnicity, Percentage, Men, Women]\n",
       "Index: []"
      ]
     },
     "execution_count": 26,
     "metadata": {},
     "output_type": "execute_result"
    }
   ],
   "source": [
    "# display nan values \n",
    "# conclusion is that we do not have any, because we already chnage them out\n",
    "nan_rows = us_census[us_census.isna().any(axis = 1)]\n",
    "nan_rows"
   ]
  },
  {
   "cell_type": "code",
   "execution_count": 27,
   "metadata": {},
   "outputs": [
    {
     "data": {
      "text/plain": [
       "State         0\n",
       "TotalPop      0\n",
       "Income        0\n",
       "Ethnicity     0\n",
       "Percentage    0\n",
       "Men           0\n",
       "Women         0\n",
       "dtype: int64"
      ]
     },
     "execution_count": 27,
     "metadata": {},
     "output_type": "execute_result"
    }
   ],
   "source": [
    "# counting nan values \n",
    "us_census.isna().sum() "
   ]
  },
  {
   "cell_type": "markdown",
   "metadata": {},
   "source": [
    "**Vizual reprezentation**\n",
    "\n",
    "1. Use matplotlib to draw a graph showing the average income for each state, in the first phase you can use the plot () function and you can also display a distribution of average income for the 50 states.\n",
    "\n",
    "2. Create a new dataframe containing two columns, one column with ethnicity of individuals and second column average the census in percentage.Based on these two columns create a vizual reprezentation of ethinicity by census.\n",
    "\n",
    "3. Let's compare the US population for each state, for that we need a bar representation. Add to this chart a title and labels for the x and y axis.\n",
    "\n",
    "4. Your friend Yana is curious to know the difference between the number of males and females."
   ]
  },
  {
   "cell_type": "code",
   "execution_count": 34,
   "metadata": {},
   "outputs": [],
   "source": [
    "# sorting the values \n",
    "us_census.sort_values(by = 'State', ascending = True).reset_index(inplace = True)"
   ]
  },
  {
   "cell_type": "code",
   "execution_count": 72,
   "metadata": {
    "scrolled": true
   },
   "outputs": [
    {
     "data": {
      "image/png": "[encoded data removed]",
      "text/plain": [
       "<Figure size 1728x576 with 1 Axes>"
      ]
     },
     "metadata": {
      "needs_background": "light"
     },
     "output_type": "display_data"
    }
   ],
   "source": [
    "# create the subset dataframe by using groupby() function for filtering the states and average income for each location \n",
    "income_states = us_census.groupby('State').Income.mean().reset_index()\n",
    "x1 = income_states.State.unique()\n",
    "ax = plt.figure(figsize = (24, 8))\n",
    "ax = plt.subplot()\n",
    "x = range(len(income_states['State']))\n",
    "plt.bar(x, income_states['Income'])\n",
    "plt.xlabel('States')\n",
    "plt.ylabel('Income')\n",
    "plt.title(\"Average income for each US state\")\n",
    "ax.set_xticks(x)\n",
    "ax.set_xticklabels(x1, rotation = 30)\n",
    "plt.show()"
   ]
  },
  {
   "cell_type": "code",
   "execution_count": 82,
   "metadata": {},
   "outputs": [
    {
     "data": {
      "image/png": "[encoded data removed]",
      "text/plain": [
       "<Figure size 432x288 with 1 Axes>"
      ]
     },
     "metadata": {
      "needs_background": "light"
     },
     "output_type": "display_data"
    }
   ],
   "source": [
    "plt.hist(income_states['Income'], edgecolor = 'black', bins = 25)\n",
    "plt.xlabel(\"Income\")\n",
    "plt.title(\"Average income distribution for US'states\")\n",
    "plt.show()"
   ]
  },
  {
   "cell_type": "code",
   "execution_count": 83,
   "metadata": {},
   "outputs": [],
   "source": [
    "group2 = us_census.groupby('Ethnicity').Percentage.mean().reset_index()"
   ]
  },
  {
   "cell_type": "code",
   "execution_count": 84,
   "metadata": {},
   "outputs": [
    {
     "data": {
      "image/png": "[encoded data removed]",
      "text/plain": [
       "<Figure size 432x288 with 1 Axes>"
      ]
     },
     "metadata": {
      "needs_background": "light"
     },
     "output_type": "display_data"
    }
   ],
   "source": [
    "sns.set_palette('Set2')\n",
    "sns.barplot(data = us_census, x = 'Ethnicity', y = 'Percentage')\n",
    "plt.show()"
   ]
  },
  {
   "cell_type": "code",
   "execution_count": 90,
   "metadata": {},
   "outputs": [
    {
     "data": {
      "image/png": "[encoded data removed]",
      "text/plain": [
       "<Figure size 1728x576 with 1 Axes>"
      ]
     },
     "metadata": {},
     "output_type": "display_data"
    }
   ],
   "source": [
    "x1 = income_states.State.unique()\n",
    "ax = plt.figure(figsize = (24, 8))\n",
    "ax = plt.subplot()\n",
    "sns.set_style('darkgrid')\n",
    "sns.barplot(data= us_census, x = 'State', y = 'TotalPop' )\n",
    "plt.xlabel('States')\n",
    "plt.ylabel('Income')\n",
    "plt.title(\"Average income for each US state\")\n",
    "ax.set_xticks(x)\n",
    "ax.set_xticklabels(x1, rotation = 30)\n",
    "plt.show()"
   ]
  },
  {
   "cell_type": "code",
   "execution_count": 87,
   "metadata": {},
   "outputs": [
    {
     "data": {
      "image/png": "[encoded data removed]",
      "text/plain": [
       "<Figure size 432x288 with 1 Axes>"
      ]
     },
     "metadata": {
      "needs_background": "light"
     },
     "output_type": "display_data"
    }
   ],
   "source": [
    "pop_states = us_census.groupby('State').TotalPop.mean().reset_index()\n",
    "plt.hist(pop_states['TotalPop'], edgecolor = 'black', bins = 20)\n",
    "plt.xlabel(\"Population\")\n",
    "plt.title(\"US population distribution for each state\")\n",
    "plt.show()"
   ]
  },
  {
   "cell_type": "code",
   "execution_count": 105,
   "metadata": {},
   "outputs": [
    {
     "data": {
      "image/png": "[encoded data removed]",
      "text/plain": [
       "<Figure size 432x288 with 1 Axes>"
      ]
     },
     "metadata": {},
     "output_type": "display_data"
    }
   ],
   "source": [
    "male = us_census.Men.mean()\n",
    "female = us_census.Women.mean()\n",
    "diff = female - male \n",
    "x = [1, 2]\n",
    "y = [male, female]\n",
    "ax = plt.subplot()\n",
    "plt.bar(x, y)\n",
    "ax.set_xticks([1, 2])\n",
    "ax.set_xticklabels(['Men', 'Women'])\n",
    "plt.show()"
   ]
  },
  {
   "cell_type": "code",
   "execution_count": 106,
   "metadata": {},
   "outputs": [
    {
     "name": "stdout",
     "output_type": "stream",
     "text": [
      "6101972.828125\n"
     ]
    }
   ],
   "source": [
    "print(diff)"
   ]
  }
 ],
 "metadata": {
  "kernelspec": {
   "display_name": "Python 3",
   "language": "python",
   "name": "python3"
  },
  "language_info": {
   "codemirror_mode": {
    "name": "ipython",
    "version": 3
   },
   "file_extension": ".py",
   "mimetype": "text/x-python",
   "name": "python",
   "nbconvert_exporter": "python",
   "pygments_lexer": "ipython3",
   "version": "3.7.4"
  }
 },
 "nbformat": 4,
 "nbformat_minor": 2
}
